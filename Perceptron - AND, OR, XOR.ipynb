{
 "cells": [
  {
   "cell_type": "code",
   "execution_count": 226,
   "metadata": {},
   "outputs": [],
   "source": [
    "import itertools\n",
    "import pandas as pd\n",
    "import numpy as np"
   ]
  },
  {
   "cell_type": "code",
   "execution_count": 227,
   "metadata": {},
   "outputs": [
    {
     "name": "stdout",
     "output_type": "stream",
     "text": [
      "[(0, 0), (0, 1), (1, 0), (1, 1)]\n"
     ]
    }
   ],
   "source": [
    "#Generate combination of binaries\n",
    "types = list(itertools.product([0,1], repeat = 2))\n",
    "print(types)"
   ]
  },
  {
   "cell_type": "code",
   "execution_count": 228,
   "metadata": {},
   "outputs": [],
   "source": [
    "#Compile in DataFrame\n",
    "df = pd.DataFrame(types, columns = ['P1', 'P2'])\n",
    "\n",
    "#Add bias\n",
    "bias = pd.DataFrame([1]*len(df), columns = ['Bias'])\n",
    "X = pd.concat([bias, df], axis = 1)"
   ]
  },
  {
   "cell_type": "code",
   "execution_count": 229,
   "metadata": {},
   "outputs": [
    {
     "data": {
      "text/html": [
       "<div>\n",
       "<style scoped>\n",
       "    .dataframe tbody tr th:only-of-type {\n",
       "        vertical-align: middle;\n",
       "    }\n",
       "\n",
       "    .dataframe tbody tr th {\n",
       "        vertical-align: top;\n",
       "    }\n",
       "\n",
       "    .dataframe thead th {\n",
       "        text-align: right;\n",
       "    }\n",
       "</style>\n",
       "<table border=\"1\" class=\"dataframe\">\n",
       "  <thead>\n",
       "    <tr style=\"text-align: right;\">\n",
       "      <th></th>\n",
       "      <th>Bias</th>\n",
       "      <th>P1</th>\n",
       "      <th>P2</th>\n",
       "    </tr>\n",
       "  </thead>\n",
       "  <tbody>\n",
       "    <tr>\n",
       "      <th>0</th>\n",
       "      <td>1</td>\n",
       "      <td>0</td>\n",
       "      <td>0</td>\n",
       "    </tr>\n",
       "    <tr>\n",
       "      <th>1</th>\n",
       "      <td>1</td>\n",
       "      <td>0</td>\n",
       "      <td>1</td>\n",
       "    </tr>\n",
       "    <tr>\n",
       "      <th>2</th>\n",
       "      <td>1</td>\n",
       "      <td>1</td>\n",
       "      <td>0</td>\n",
       "    </tr>\n",
       "    <tr>\n",
       "      <th>3</th>\n",
       "      <td>1</td>\n",
       "      <td>1</td>\n",
       "      <td>1</td>\n",
       "    </tr>\n",
       "  </tbody>\n",
       "</table>\n",
       "</div>"
      ],
      "text/plain": [
       "   Bias  P1  P2\n",
       "0     1   0   0\n",
       "1     1   0   1\n",
       "2     1   1   0\n",
       "3     1   1   1"
      ]
     },
     "execution_count": 229,
     "metadata": {},
     "output_type": "execute_result"
    }
   ],
   "source": [
    "X"
   ]
  },
  {
   "cell_type": "code",
   "execution_count": 230,
   "metadata": {},
   "outputs": [],
   "source": [
    "#Function to produce -1, 1 logic\n",
    "def bool_neg(x):\n",
    "    if x: return 1\n",
    "    else: return -1\n",
    "\n",
    "#AND, OR, and XOR\n",
    "Y = pd.concat([pd.Series([bool_neg(all(x)) for x in types], name = 'AND'),\n",
    "              pd.Series([bool_neg(any(x)) for x in types], name = 'OR'),\n",
    "              pd.Series([bool_neg(x[0] != x[1]) for x in types], name = 'XOR')], axis = 1)\n",
    "\n",
    "X_Y = pd.concat([df, and_or_xor], axis = 1)"
   ]
  },
  {
   "cell_type": "code",
   "execution_count": 231,
   "metadata": {},
   "outputs": [
    {
     "data": {
      "text/html": [
       "<div>\n",
       "<style scoped>\n",
       "    .dataframe tbody tr th:only-of-type {\n",
       "        vertical-align: middle;\n",
       "    }\n",
       "\n",
       "    .dataframe tbody tr th {\n",
       "        vertical-align: top;\n",
       "    }\n",
       "\n",
       "    .dataframe thead th {\n",
       "        text-align: right;\n",
       "    }\n",
       "</style>\n",
       "<table border=\"1\" class=\"dataframe\">\n",
       "  <thead>\n",
       "    <tr style=\"text-align: right;\">\n",
       "      <th></th>\n",
       "      <th>AND</th>\n",
       "      <th>OR</th>\n",
       "      <th>XOR</th>\n",
       "    </tr>\n",
       "  </thead>\n",
       "  <tbody>\n",
       "    <tr>\n",
       "      <th>0</th>\n",
       "      <td>-1</td>\n",
       "      <td>-1</td>\n",
       "      <td>-1</td>\n",
       "    </tr>\n",
       "    <tr>\n",
       "      <th>1</th>\n",
       "      <td>-1</td>\n",
       "      <td>1</td>\n",
       "      <td>1</td>\n",
       "    </tr>\n",
       "    <tr>\n",
       "      <th>2</th>\n",
       "      <td>-1</td>\n",
       "      <td>1</td>\n",
       "      <td>1</td>\n",
       "    </tr>\n",
       "    <tr>\n",
       "      <th>3</th>\n",
       "      <td>1</td>\n",
       "      <td>1</td>\n",
       "      <td>-1</td>\n",
       "    </tr>\n",
       "  </tbody>\n",
       "</table>\n",
       "</div>"
      ],
      "text/plain": [
       "   AND  OR  XOR\n",
       "0   -1  -1   -1\n",
       "1   -1   1    1\n",
       "2   -1   1    1\n",
       "3    1   1   -1"
      ]
     },
     "execution_count": 231,
     "metadata": {},
     "output_type": "execute_result"
    }
   ],
   "source": [
    "Y"
   ]
  },
  {
   "cell_type": "code",
   "execution_count": 285,
   "metadata": {},
   "outputs": [
    {
     "name": "stdout",
     "output_type": "stream",
     "text": [
      "[-1  0 -1]\n"
     ]
    }
   ],
   "source": [
    "#Generate initial weights\n",
    "np.random.seed(6912)\n",
    "init_weights = np.random.randint(-1, 1, 3)\n",
    "print(init_weights)"
   ]
  },
  {
   "cell_type": "code",
   "execution_count": 286,
   "metadata": {},
   "outputs": [],
   "source": [
    "#Define output function\n",
    "def hx_output(weights, x):\n",
    "    f_sum = sum(weights * x)\n",
    "    f_sign = int(np.sign(f_sum))\n",
    "    return f_sign"
   ]
  },
  {
   "cell_type": "code",
   "execution_count": 297,
   "metadata": {},
   "outputs": [
    {
     "name": "stdout",
     "output_type": "stream",
     "text": [
      "Iterations: 28\n",
      "Weights: [-1, 2, 2]\n"
     ]
    }
   ],
   "source": [
    "#OR case perceptron\n",
    "case = 'OR'\n",
    "\n",
    "weights = init_weights\n",
    "error, iter_count = 1, 0\n",
    "\n",
    "while error:\n",
    "    error = 0\n",
    "    for i in X.index:\n",
    "        iter_count += 1\n",
    "        \n",
    "        #x, y_hat, y\n",
    "        x = X.loc[i]\n",
    "        y_hat = hx_output(weights, x)\n",
    "        y = Y[case][i]\n",
    "        \n",
    "        #Missclassified point\n",
    "        if y_hat != y:\n",
    "            error += 1\n",
    "            #Perceptron update\n",
    "            weights += x*y\n",
    "    if iter_count > 999:\n",
    "        iter_count = 'Broken, above 1,000'\n",
    "        break\n",
    "\n",
    "print('Iterations:', iter_count)\n",
    "print('Weights:', list(weights))"
   ]
  },
  {
   "cell_type": "code",
   "execution_count": 298,
   "metadata": {},
   "outputs": [
    {
     "name": "stdout",
     "output_type": "stream",
     "text": [
      "Iterations: 40\n",
      "Weights: [-4, 3, 2]\n"
     ]
    }
   ],
   "source": [
    "#AND case perceptron\n",
    "case = 'AND'\n",
    "\n",
    "weights = init_weights\n",
    "error, iter_count = 1, 0\n",
    "\n",
    "while error:\n",
    "    error = 0\n",
    "    for i in X.index:\n",
    "        iter_count += 1\n",
    "        \n",
    "        #x, y_hat, y\n",
    "        x = X.loc[i]\n",
    "        y_hat = hx_output(weights, x)\n",
    "        y = Y[case][i]\n",
    "        \n",
    "        #Missclassified point\n",
    "        if y_hat != y:\n",
    "            error += 1\n",
    "            #Perceptron update\n",
    "            weights += x*y\n",
    "    if iter_count > 999:\n",
    "        iter_count = 'Broken, above 1,000'\n",
    "        break\n",
    "\n",
    "print('Iterations:', iter_count)\n",
    "print('Weights:', list(weights))"
   ]
  },
  {
   "cell_type": "code",
   "execution_count": 299,
   "metadata": {},
   "outputs": [
    {
     "name": "stdout",
     "output_type": "stream",
     "text": [
      "Iterations: Broken, above 1,000\n",
      "Weights: [0, 0, -1]\n"
     ]
    }
   ],
   "source": [
    "#XOR case perceptron\n",
    "case = 'XOR'\n",
    "\n",
    "weights = init_weights\n",
    "error, iter_count = 1, 0\n",
    "\n",
    "while error:\n",
    "    error = 0\n",
    "    for i in X.index:\n",
    "        iter_count += 1\n",
    "        \n",
    "        #x, y_hat, y\n",
    "        x = X.loc[i]\n",
    "        y_hat = hx_output(weights, x)\n",
    "        y = Y[case][i]\n",
    "        \n",
    "        #Missclassified point\n",
    "        if y_hat != y:\n",
    "            error += 1\n",
    "            #Perceptron update\n",
    "            weights += x*y\n",
    "    if iter_count > 999:\n",
    "        iter_count = 'Broken, above 1,000'\n",
    "        break\n",
    "\n",
    "print('Iterations:', iter_count)\n",
    "print('Weights:', list(weights))"
   ]
  }
 ],
 "metadata": {
  "kernelspec": {
   "display_name": "Python 3",
   "language": "python",
   "name": "python3"
  },
  "language_info": {
   "codemirror_mode": {
    "name": "ipython",
    "version": 3
   },
   "file_extension": ".py",
   "mimetype": "text/x-python",
   "name": "python",
   "nbconvert_exporter": "python",
   "pygments_lexer": "ipython3",
   "version": "3.7.1"
  }
 },
 "nbformat": 4,
 "nbformat_minor": 2
}
